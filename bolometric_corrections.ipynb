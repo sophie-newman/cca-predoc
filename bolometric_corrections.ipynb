{
 "cells": [
  {
   "cell_type": "code",
   "execution_count": 44,
   "metadata": {},
   "outputs": [],
   "source": [
    "import pandas as pd\n",
    "from matplotlib import pyplot as plt\n",
    "import matplotlib as mpl\n",
    "import numpy as np\n",
    "\n",
    "plt.rcParams['figure.dpi'] = 100\n",
    "mpl.rcParams.update({'font.size': 14})"
   ]
  },
  {
   "cell_type": "code",
   "execution_count": 6,
   "metadata": {},
   "outputs": [
    {
     "name": "stdout",
     "output_type": "stream",
     "text": [
      "   halo_id  gal_id  redshift      v_disk    r_disk  sigma_bulge   r_bulge  \\\n",
      "0        2       1  0.021348  307.993120  9.696200   133.392340  1.164658   \n",
      "1        2      33  0.021348   49.013695  0.733257    36.569040  0.000000   \n",
      "2        2      44  0.021348   56.442906  1.385767    45.081714  0.000000   \n",
      "3        2      46  0.021348   79.345405  1.571389   156.852050  0.002752   \n",
      "4        2      51  0.021348   50.606292  1.166125    36.766840  0.000000   \n",
      "\n",
      "       mhalo     rhalo       vhalo  ...   sfr_ave    meanage     tmerge  \\\n",
      "0  12.957363  0.542301  280.739160  ...  0.005304  10.617259  10.592337   \n",
      "1  10.185366  0.027380   53.417290  ...  0.000001  10.752273 -99.900000   \n",
      "2  10.579348  0.051121   68.069007  ...  0.000018  10.449708 -99.900000   \n",
      "3  11.023086  0.071865   80.803161  ...  0.000122   9.047961  10.875008   \n",
      "4  10.491549  0.051943   57.546815  ...  0.000009   9.515830 -99.900000   \n",
      "\n",
      "   tmajmerge  mu_merge      t_sat    r_fric      cosi      beta  beta_dust  \n",
      "0 -99.900000  0.163687  14.498233  0.000000  0.598144 -0.872226  -0.826111  \n",
      "1 -99.900000  0.000000   9.910005  0.100504  0.880876  2.681046   2.681046  \n",
      "2 -99.900000  0.000000   7.605440  0.133950  0.974070  2.098779   2.105244  \n",
      "3  10.875008  0.274457   7.605440  0.043380  0.499062  1.712537   1.738112  \n",
      "4 -99.900000  0.000000   6.951948  0.186545  0.875898  2.436526   2.436526  \n",
      "\n",
      "[5 rows x 36 columns]\n",
      "<class 'pandas.core.frame.DataFrame'>\n",
      "RangeIndex: 88 entries, 0 to 87\n",
      "Data columns (total 36 columns):\n",
      " #   Column         Non-Null Count  Dtype  \n",
      "---  ------         --------------  -----  \n",
      " 0   halo_id        88 non-null     int64  \n",
      " 1   gal_id         88 non-null     int64  \n",
      " 2   redshift       88 non-null     float64\n",
      " 3   v_disk         88 non-null     float64\n",
      " 4   r_disk         88 non-null     float64\n",
      " 5   sigma_bulge    88 non-null     float64\n",
      " 6   r_bulge        88 non-null     float64\n",
      " 7   mhalo          88 non-null     float64\n",
      " 8   rhalo          88 non-null     float64\n",
      " 9   vhalo          88 non-null     float64\n",
      " 10  m_strip        88 non-null     float64\n",
      " 11  mstar          88 non-null     float64\n",
      " 12  mstar_burst    88 non-null     float64\n",
      " 13  mcold          88 non-null     float64\n",
      " 14  mH2            88 non-null     float64\n",
      " 15  mHI            88 non-null     float64\n",
      " 16  mHII           88 non-null     float64\n",
      " 17  mbulge         88 non-null     float64\n",
      " 18  mBH            88 non-null     float64\n",
      " 19  maccdot        88 non-null     float64\n",
      " 20  maccdot_radio  88 non-null     float64\n",
      " 21  Zstar          88 non-null     float64\n",
      " 22  Zcold          88 non-null     float64\n",
      " 23  tau0           88 non-null     float64\n",
      " 24  mstardot       88 non-null     float64\n",
      " 25  sfr_burst      88 non-null     float64\n",
      " 26  sfr_ave        88 non-null     float64\n",
      " 27  meanage        88 non-null     float64\n",
      " 28  tmerge         88 non-null     float64\n",
      " 29  tmajmerge      88 non-null     float64\n",
      " 30  mu_merge       88 non-null     float64\n",
      " 31  t_sat          88 non-null     float64\n",
      " 32  r_fric         88 non-null     float64\n",
      " 33  cosi           88 non-null     float64\n",
      " 34  beta           88 non-null     float64\n",
      " 35  beta_dust      88 non-null     float64\n",
      "dtypes: float64(34), int64(2)\n",
      "memory usage: 24.9 KB\n",
      "None\n"
     ]
    },
    {
     "name": "stderr",
     "output_type": "stream",
     "text": [
      "/tmp/ipykernel_23668/1454522863.py:16: FutureWarning: The 'delim_whitespace' keyword in pd.read_csv is deprecated and will be removed in a future version. Use ``sep='\\s+'`` instead\n",
      "  df = pd.read_csv(\n"
     ]
    }
   ],
   "source": [
    "# Define column names based on galprop.dat header\n",
    "colnames = [\n",
    "    \"halo_id\", \"gal_id\", \"redshift\",\n",
    "    \"v_disk\", \"r_disk\", \"sigma_bulge\", \"r_bulge\",\n",
    "    \"mhalo\", \"rhalo\", \"vhalo\", \"m_strip\",\n",
    "    \"mstar\", \"mstar_burst\", \"mcold\", \"mH2\", \"mHI\", \"mHII\",\n",
    "    \"mbulge\", \"mBH\", \"maccdot\", \"maccdot_radio\",\n",
    "    \"Zstar\", \"Zcold\", \"tau0\", \"mstardot\", \"sfr_burst\",\n",
    "    \"sfr_ave\", \"meanage\", \"tmerge\", \"tmajmerge\", \"mu_merge\",\n",
    "    \"t_sat\", \"r_fric\", \"cosi\", \"beta\", \"beta_dust\"\n",
    "]\n",
    "\n",
    "data_dir = '/home/sophienewman/Desktop/data/cca/part_z0.00_z0.05/part_z0.00_z0.05'\n",
    "\n",
    "# Read the .dat file, skipping comment lines starting with '#'\n",
    "df = pd.read_csv(\n",
    "    f\"{data_dir}/galprop.dat\", \n",
    "    delim_whitespace=True, \n",
    "    comment=\"#\", \n",
    "    names=colnames\n",
    ")\n",
    "\n",
    "# Quick check\n",
    "print(df.head())\n",
    "print(df.info())"
   ]
  },
  {
   "cell_type": "code",
   "execution_count": 34,
   "metadata": {},
   "outputs": [
    {
     "name": "stdout",
     "output_type": "stream",
     "text": [
      "Total mdot values: 88\n",
      "Number of these that are zero: 31\n"
     ]
    }
   ],
   "source": [
    "mdot = df[\"maccdot_radio\"].to_numpy()\n",
    "    \n",
    "print('Total mdot values:', len(mdot))\n",
    "print('Number of these that are zero:', np.sum(mdot == 0))"
   ]
  },
  {
   "cell_type": "code",
   "execution_count": 48,
   "metadata": {},
   "outputs": [
    {
     "data": {
      "image/png": "[encoded data removed]",
      "text/plain": [
       "<Figure size 800x500 with 1 Axes>"
      ]
     },
     "metadata": {},
     "output_type": "display_data"
    }
   ],
   "source": [
    "nonzero_mdot = mdot[mdot != 0]\n",
    "\n",
    "# --- Histogram with log-scaled x-axis ---\n",
    "plt.figure(figsize=(8,5))\n",
    "plt.hist(nonzero_mdot, bins=np.logspace(np.log10(nonzero_mdot.min()),\n",
    "                                           np.log10(nonzero_mdot.max()), 100),\n",
    "         edgecolor=\"black\",\n",
    "         facecolor=\"#cf5230\")\n",
    "plt.xscale(\"log\")\n",
    "plt.xlabel(r\"$\\dot{M}_{BH}$\")\n",
    "plt.ylabel(\"Number of galaxies\")\n",
    "plt.tight_layout()\n",
    "plt.show()"
   ]
  },
  {
   "cell_type": "code",
   "execution_count": null,
   "metadata": {},
   "outputs": [],
   "source": []
  }
 ],
 "metadata": {
  "kernelspec": {
   "display_name": "envy2",
   "language": "python",
   "name": "envy2"
  },
  "language_info": {
   "codemirror_mode": {
    "name": "ipython",
    "version": 3
   },
   "file_extension": ".py",
   "mimetype": "text/x-python",
   "name": "python",
   "nbconvert_exporter": "python",
   "pygments_lexer": "ipython3",
   "version": "3.10.13"
  }
 },
 "nbformat": 4,
 "nbformat_minor": 2
}
